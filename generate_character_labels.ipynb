{
 "cells": [
  {
   "cell_type": "code",
   "execution_count": 1,
   "metadata": {},
   "outputs": [],
   "source": [
    "import numpy as np\n",
    "import torch\n",
    "import torch.nn.utils.rnn as rnn"
   ]
  },
  {
   "cell_type": "code",
   "execution_count": 2,
   "metadata": {},
   "outputs": [],
   "source": [
    "# x = np.load('all/character/train_labels.npy')\n",
    "# x1 = [torch.tensor(x[i],dtype=torch.long) for i in range(5)]\n",
    "# y=x1[:5]\n",
    "# # print([yy.size() for yy in y])\n",
    "# z=rnn.pad_sequence(y,padding_value=-100)\n",
    "# print(z)\n",
    "# print(z.size())"
   ]
  },
  {
   "cell_type": "code",
   "execution_count": 3,
   "metadata": {},
   "outputs": [],
   "source": [
    "train = np.load('all/train_transcripts.npy')\n",
    "dev = np.load('all/dev_transcripts.npy')"
   ]
  },
  {
   "cell_type": "code",
   "execution_count": 4,
   "metadata": {},
   "outputs": [],
   "source": [
    "vocab = ['<sos|eos>','a','b','c','d','e','f','g','h','i','j','k','l','m','n','o','p','q','r','s','t','u','v','w','x','y','z',\n",
    "         '0', '1', '2', '3', '4', '5', '6', '7', '8', '9', ',',\"'\",' ','.','<unk>']\n",
    "\n"
   ]
  },
  {
   "cell_type": "code",
   "execution_count": 5,
   "metadata": {},
   "outputs": [],
   "source": [
    "train_labels = []\n",
    "for sentence in train:\n",
    "    labels = [0]\n",
    "    str1 = ' '.join(word.decode(\"utf-8\").lower() for word in sentence)\n",
    "    for char in str1:\n",
    "        if char in vocab:\n",
    "            labels.append(vocab.index(char))\n",
    "        else:\n",
    "            labels.append(len(vocab)-1)\n",
    "    labels.append(0)\n",
    "    train_labels.append(np.asarray(labels))\n",
    "train_labels = np.asarray(train_labels)"
   ]
  },
  {
   "cell_type": "code",
   "execution_count": 6,
   "metadata": {},
   "outputs": [],
   "source": [
    "dev_labels = []\n",
    "for sentence in dev:\n",
    "    labels = [0]\n",
    "    str1 = ' '.join(word.decode(\"utf-8\").lower() for word in sentence)\n",
    "    for char in str1:\n",
    "        if char in vocab:\n",
    "            labels.append(vocab.index(char))\n",
    "        else:\n",
    "            labels.append(len(vocab)-1)\n",
    "    labels.append(0)\n",
    "    dev_labels.append(np.asarray(labels))\n",
    "dev_labels = np.asarray(dev_labels)"
   ]
  },
  {
   "cell_type": "code",
   "execution_count": 7,
   "metadata": {},
   "outputs": [],
   "source": [
    "np.save('all/character/train_labels.npy',train_labels)\n",
    "np.save('all/character/dev_labels.npy',dev_labels)\n",
    "np.save('all/character/vocab.npy', vocab)"
   ]
  },
  {
   "cell_type": "code",
   "execution_count": 8,
   "metadata": {},
   "outputs": [
    {
     "name": "stdout",
     "output_type": "stream",
     "text": [
      "<sos|eos>it has sold one point three billion dollars of r. c. a.'s assets including records life insurance carpeting and loan receivables<sos|eos>\n",
      "[b'IT' b'HAS' b'SOLD' b'ONE' b'POINT' b'THREE' b'BILLION' b'DOLLARS' b'OF'\n",
      " b'R.' b'C.' b\"A.'S\" b'ASSETS' b'INCLUDING' b'RECORDS' b'LIFE'\n",
      " b'INSURANCE' b'CARPETING' b'AND' b'LOAN' b'RECEIVABLES']\n"
     ]
    }
   ],
   "source": [
    "str1 = ''.join(vocab[idx] for idx in dev_labels[567])\n",
    "print(str1)\n",
    "print(dev[567])"
   ]
  },
  {
   "cell_type": "code",
   "execution_count": 9,
   "metadata": {},
   "outputs": [
    {
     "name": "stdout",
     "output_type": "stream",
     "text": [
      "42\n"
     ]
    }
   ],
   "source": [
    "print(len(vocab))"
   ]
  },
  {
   "cell_type": "code",
   "execution_count": null,
   "metadata": {},
   "outputs": [],
   "source": []
  }
 ],
 "metadata": {
  "kernelspec": {
   "display_name": "Python 3",
   "language": "python",
   "name": "python3"
  },
  "language_info": {
   "codemirror_mode": {
    "name": "ipython",
    "version": 3
   },
   "file_extension": ".py",
   "mimetype": "text/x-python",
   "name": "python",
   "nbconvert_exporter": "python",
   "pygments_lexer": "ipython3",
   "version": "3.6.5"
  }
 },
 "nbformat": 4,
 "nbformat_minor": 2
}
