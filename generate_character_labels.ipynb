{
 "cells": [
  {
   "cell_type": "code",
   "execution_count": 1,
   "metadata": {},
   "outputs": [],
   "source": [
    "import numpy as np\n",
    "import torch\n",
    "import torch.nn.utils.rnn as rnn"
   ]
  },
  {
   "cell_type": "code",
   "execution_count": 2,
   "metadata": {},
   "outputs": [],
   "source": [
    "# x = np.load('all/character/train_labels.npy')\n",
    "# x1 = [torch.tensor(x[i],dtype=torch.long) for i in range(5)]\n",
    "# y=x1[:5]\n",
    "# # print([yy.size() for yy in y])\n",
    "# z=rnn.pad_sequence(y,padding_value=-100)\n",
    "# print(z)\n",
    "# print(z.size())"
   ]
  },
  {
   "cell_type": "code",
   "execution_count": 3,
   "metadata": {},
   "outputs": [],
   "source": [
    "train = np.load('all/train_transcripts.npy')\n",
    "dev = np.load('all/dev_transcripts.npy')"
   ]
  },
  {
   "cell_type": "code",
   "execution_count": 4,
   "metadata": {},
   "outputs": [],
   "source": [
    "# vocab = ['<sos|eos>','a','b','c','d','e','f','g','h','i','j','k','l','m','n','o','p','q','r','s','t','u','v','w','x','y','z',\n",
    "#          '0', '1', '2', '3', '4', '5', '6', '7', '8', '9', ',',\"'\",' ','.','<unk>']\n",
    "\n"
   ]
  },
  {
   "cell_type": "code",
   "execution_count": 17,
   "metadata": {},
   "outputs": [],
   "source": [
    "vocab = []\n",
    "vocab.append('<|||>')  # sos or eos\n",
    "next_char_index = 1\n",
    "train_labels = []\n",
    "for sentence in train:\n",
    "    labels = [0]\n",
    "    str1 = ' '.join(word.decode(\"utf-8\").lower() for word in sentence)\n",
    "    for char in str1:\n",
    "        if char in vocab:\n",
    "            labels.append(vocab.index(char))\n",
    "        else:\n",
    "            vocab.append(char)\n",
    "            labels.append(next_char_index)\n",
    "            next_char_index += 1\n",
    "    labels.append(0)\n",
    "    train_labels.append(np.asarray(labels))\n",
    "train_labels = np.asarray(train_labels)"
   ]
  },
  {
   "cell_type": "code",
   "execution_count": 18,
   "metadata": {},
   "outputs": [],
   "source": [
    "dev_labels = []\n",
    "for sentence in dev:\n",
    "    labels = [0]\n",
    "    str1 = ' '.join(word.decode(\"utf-8\").lower() for word in sentence)\n",
    "    for char in str1:\n",
    "        if char in vocab:\n",
    "            labels.append(vocab.index(char))\n",
    "        else:\n",
    "            vocab.append(char)\n",
    "            labels.append(next_char_index)\n",
    "            next_char_index += 1\n",
    "    labels.append(0)\n",
    "    dev_labels.append(np.asarray(labels))\n",
    "dev_labels = np.asarray(dev_labels)"
   ]
  },
  {
   "cell_type": "code",
   "execution_count": 19,
   "metadata": {},
   "outputs": [],
   "source": [
    "np.save('all/character/train_labels.npy',train_labels)\n",
    "np.save('all/character/dev_labels.npy',dev_labels)\n",
    "np.save('all/character/vocab.npy', vocab)"
   ]
  },
  {
   "cell_type": "code",
   "execution_count": 20,
   "metadata": {},
   "outputs": [
    {
     "name": "stdout",
     "output_type": "stream",
     "text": [
      "<|||>since they are taking their profit and loss in another currency a decline in the value of the dollar will reduce their rate of return<|||>\n",
      "[b'SINCE' b'THEY' b'ARE' b'TAKING' b'THEIR' b'PROFIT' b'AND' b'LOSS' b'IN'\n",
      " b'ANOTHER' b'CURRENCY' b'A' b'DECLINE' b'IN' b'THE' b'VALUE' b'OF' b'THE'\n",
      " b'DOLLAR' b'WILL' b'REDUCE' b'THEIR' b'RATE' b'OF' b'RETURN']\n"
     ]
    }
   ],
   "source": [
    "str1 = ''.join(vocab[idx] for idx in dev_labels[1050])\n",
    "print(str1)\n",
    "print(dev[1050])"
   ]
  },
  {
   "cell_type": "code",
   "execution_count": 21,
   "metadata": {},
   "outputs": [
    {
     "name": "stdout",
     "output_type": "stream",
     "text": [
      "33\n"
     ]
    }
   ],
   "source": [
    "print(len(vocab))"
   ]
  },
  {
   "cell_type": "code",
   "execution_count": null,
   "metadata": {},
   "outputs": [],
   "source": []
  }
 ],
 "metadata": {
  "kernelspec": {
   "display_name": "Python 3",
   "language": "python",
   "name": "python3"
  },
  "language_info": {
   "codemirror_mode": {
    "name": "ipython",
    "version": 3
   },
   "file_extension": ".py",
   "mimetype": "text/x-python",
   "name": "python",
   "nbconvert_exporter": "python",
   "pygments_lexer": "ipython3",
   "version": "3.6.5"
  }
 },
 "nbformat": 4,
 "nbformat_minor": 2
}
