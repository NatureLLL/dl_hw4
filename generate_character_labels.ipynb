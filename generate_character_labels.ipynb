{
 "cells": [
  {
   "cell_type": "code",
   "execution_count": 3,
   "metadata": {},
   "outputs": [],
   "source": [
    "import numpy as np\n",
    "import torch\n",
    "import torch.nn.utils.rnn as rnn"
   ]
  },
  {
   "cell_type": "code",
   "execution_count": 13,
   "metadata": {},
   "outputs": [
    {
     "name": "stdout",
     "output_type": "stream",
     "text": [
      "tensor([[   0,    0,    0,    0,    0],\n",
      "        [  20,   14,   20,    8,    9],\n",
      "        [   8,   21,    8,    9,   14],\n",
      "        [   5,   13,    5,   19,   29],\n",
      "        [  29,    5,    9,   29,   18],\n",
      "        [   6,   18,   18,   13,    5],\n",
      "        [   5,   15,   29,   15,    3],\n",
      "        [  13,   21,   19,   19,    5],\n",
      "        [   1,   19,   15,   20,   14],\n",
      "        [  12,   29,   12,   29,   20],\n",
      "        [   5,   23,   21,   19,   29],\n",
      "        [  29,   15,   20,    9,   25],\n",
      "        [  16,   18,    9,    7,    5],\n",
      "        [  18,   11,   15,   14,    1],\n",
      "        [  15,   19,   14,    9,   18],\n",
      "        [   4,   29,   29,    6,   19],\n",
      "        [  21,   15,   18,    9,   29],\n",
      "        [   3,    6,    5,    3,   19],\n",
      "        [   5,   29,   17,    1,    8],\n",
      "        [  19,    1,   21,   14,    5],\n",
      "        [  29,   18,    9,   20,   29],\n",
      "        [   1,   20,   18,   29,    8],\n",
      "        [  29,   29,    5,   19,    1],\n",
      "        [  12,    1,   19,    3,   19],\n",
      "        [   9,   18,   29,    9,   29],\n",
      "        [  20,    5,    4,    5,   16],\n",
      "        [  20,   29,    5,   14,   18],\n",
      "        [   5,    2,   22,   20,    9],\n",
      "        [  18,    1,    5,    9,   13],\n",
      "        [  29,   19,   12,    6,    1],\n",
      "        [  15,    5,   15,    9,   18],\n",
      "        [   6,    4,   16,    3,    9],\n",
      "        [  29,   29,   13,   29,   12],\n",
      "        [  20,   15,    5,   16,   25],\n",
      "        [  23,   14,   14,   21,   29],\n",
      "        [  15,   29,   20,    2,    1],\n",
      "        [  29,   20,   29,   12,   16],\n",
      "        [  20,    8,   15,    9,   16],\n",
      "        [  15,    5,    6,    3,    5],\n",
      "        [  29,   29,   29,    1,    1],\n",
      "        [   6,   19,   20,   20,   18],\n",
      "        [  15,   20,    8,    9,    5],\n",
      "        [  21,   15,    5,   15,    4],\n",
      "        [  18,   18,   29,   14,   29],\n",
      "        [  29,   25,    8,   19,    9],\n",
      "        [  25,   29,   21,   29,   14],\n",
      "        [  15,   15,   13,   23,   29],\n",
      "        [  21,    6,    1,    5,   20],\n",
      "        [  14,   29,   14,   18,    5],\n",
      "        [   7,   20,   29,    5,   12],\n",
      "        [  29,    8,    3,   29,    5],\n",
      "        [   9,    5,    1,   19,   22],\n",
      "        [  14,   29,   16,   20,    9],\n",
      "        [  29,   19,    1,   21,   19],\n",
      "        [  14,    1,    3,    4,    9],\n",
      "        [  15,    3,    9,    9,   15],\n",
      "        [  22,   18,   20,    5,   14],\n",
      "        [   5,    9,   25,   19,   29],\n",
      "        [  13,    6,   29,   29,    6],\n",
      "        [   2,    9,    6,   15,    9],\n",
      "        [   5,    3,   15,    6,   12],\n",
      "        [  18,    5,   18,   29,   13],\n",
      "        [  29,   29,   29,    2,   19],\n",
      "        [   1,   15,   19,    9,   29],\n",
      "        [  14,    6,   15,   18,   19],\n",
      "        [   4,   29,    3,    4,   21],\n",
      "        [  29,    9,    9,   19,    3],\n",
      "        [   4,   19,    1,   29,    8],\n",
      "        [   5,    1,   12,    1,   29],\n",
      "        [   3,    1,   29,   14,    1],\n",
      "        [   5,    3,    9,    4,   19],\n",
      "        [  13,    0,   14,   29,   29],\n",
      "        [   2, -100,   20,    1,   12],\n",
      "        [   5, -100,    5,   14,    9],\n",
      "        [  18, -100,   18,    9,   20],\n",
      "        [   0, -100,    5,   13,   20],\n",
      "        [-100, -100,   19,    1,   12],\n",
      "        [-100, -100,   20,   12,    5],\n",
      "        [-100, -100,    0,   19,   29],\n",
      "        [-100, -100, -100,    0,    7],\n",
      "        [-100, -100, -100, -100,   12],\n",
      "        [-100, -100, -100, -100,   15],\n",
      "        [-100, -100, -100, -100,   18],\n",
      "        [-100, -100, -100, -100,    9],\n",
      "        [-100, -100, -100, -100,    1],\n",
      "        [-100, -100, -100, -100,    0]])\n",
      "torch.Size([86, 5])\n"
     ]
    }
   ],
   "source": [
    "# x = np.load('all/character/train_labels.npy')\n",
    "# x1 = [torch.tensor(x[i],dtype=torch.long) for i in range(5)]\n",
    "# y=x1[:5]\n",
    "# # print([yy.size() for yy in y])\n",
    "# z=rnn.pad_sequence(y,padding_value=-100)\n",
    "# print(z)\n",
    "# print(z.size())"
   ]
  },
  {
   "cell_type": "code",
   "execution_count": 3,
   "metadata": {},
   "outputs": [],
   "source": [
    "train = np.load('all/train_transcripts.npy')\n",
    "dev = np.load('all/dev_transcripts.npy')"
   ]
  },
  {
   "cell_type": "code",
   "execution_count": 4,
   "metadata": {},
   "outputs": [],
   "source": [
    "vocab = ['<sos|eos>','a','b','c','d','e','f','g','h','i','j','k','l','m','n','o','p','q','r','s','t','u','v','w','x','y','z',\n",
    "         ',',\"'\",' ','.','<unk>']"
   ]
  },
  {
   "cell_type": "code",
   "execution_count": 15,
   "metadata": {},
   "outputs": [],
   "source": [
    "train_labels = []\n",
    "for sentence in train:\n",
    "    labels = [0]\n",
    "    str1 = ' '.join(word.decode(\"utf-8\").lower() for word in sentence)\n",
    "    for char in str1:\n",
    "        if char in vocab:\n",
    "            labels.append(vocab.index(char))\n",
    "        else:\n",
    "            labels.append(len(vocab)-1)\n",
    "    labels.append(0)\n",
    "    train_labels.append(np.asarray(labels))\n",
    "train_labels = np.asarray(train_labels)"
   ]
  },
  {
   "cell_type": "code",
   "execution_count": 17,
   "metadata": {},
   "outputs": [],
   "source": [
    "dev_labels = []\n",
    "for sentence in dev:\n",
    "    labels = [0]\n",
    "    str1 = ' '.join(word.decode(\"utf-8\").lower() for word in sentence)\n",
    "    for char in str1:\n",
    "        if char in vocab:\n",
    "            labels.append(vocab.index(char))\n",
    "        else:\n",
    "            labels.append(len(vocab)-1)\n",
    "    labels.append(0)\n",
    "    dev_labels.append(np.asarray(labels))\n",
    "dev_labels = np.asarray(dev_labels)"
   ]
  },
  {
   "cell_type": "code",
   "execution_count": 22,
   "metadata": {},
   "outputs": [],
   "source": [
    "np.save('all/character/train_labels.npy',train_labels)\n",
    "np.save('all/character/dev_labels.npy',dev_labels)\n",
    "np.save('all/character/vocab.npy', vocab)"
   ]
  },
  {
   "cell_type": "code",
   "execution_count": 23,
   "metadata": {},
   "outputs": [
    {
     "name": "stdout",
     "output_type": "stream",
     "text": [
      "<sos|eos>it has sold one point three billion dollars of r. c. a.'s assets including records life insurance carpeting and loan receivables<sos|eos>\n",
      "[b'IT' b'HAS' b'SOLD' b'ONE' b'POINT' b'THREE' b'BILLION' b'DOLLARS' b'OF'\n",
      " b'R.' b'C.' b\"A.'S\" b'ASSETS' b'INCLUDING' b'RECORDS' b'LIFE'\n",
      " b'INSURANCE' b'CARPETING' b'AND' b'LOAN' b'RECEIVABLES']\n"
     ]
    }
   ],
   "source": [
    "str1 = ''.join(vocab[idx] for idx in dev_labels[567])\n",
    "print(str1)\n",
    "print(dev[567])"
   ]
  },
  {
   "cell_type": "code",
   "execution_count": null,
   "metadata": {},
   "outputs": [],
   "source": []
  }
 ],
 "metadata": {
  "kernelspec": {
   "display_name": "Python 3",
   "language": "python",
   "name": "python3"
  },
  "language_info": {
   "codemirror_mode": {
    "name": "ipython",
    "version": 3
   },
   "file_extension": ".py",
   "mimetype": "text/x-python",
   "name": "python",
   "nbconvert_exporter": "python",
   "pygments_lexer": "ipython3",
   "version": "3.6.5"
  }
 },
 "nbformat": 4,
 "nbformat_minor": 2
}
